{
 "cells": [
  {
   "cell_type": "markdown",
   "metadata": {
    "id": "z0UYFn6UZeAH"
   },
   "source": [
    "# Ecuación de Difusión en 2D implícito en Mallas Lógicamente Rectangulares\n",
    "\n",
    "Función que calcula una aproximación a la solución de la ecuación de Difusión en 2D utilizando un esquema implícito de Diferencias Finitas Generalizadas en mallas lógicamente rectangulares.\n",
    "\n",
    "El problema que se resuelve es:\n",
    "\n",
    "\\begin{align}\n",
    "\\frac{\\partial u}{\\partial t}= \\nu\\nabla^2 u\n",
    "\\end{align}\n",
    "\n",
    "El número de vecinos varia dependiendo del nodo.\n",
    "\n",
    "### Parámetros de entrada\n",
    "    x           m x n       double      Matriz con las coordenadas en $x$ de los nodos.\n",
    "    y           m x n       double      Matriz con las coordenadas de $y$ de los nodos.\n",
    "    fDIF                    function    Función declarada con la condición inicial y de frontera.\n",
    "    v                       real        Coeficiente de difusión.\n",
    "    t                       integer     Número de pasos en el tiempo.\n",
    "\n",
    "### Parámetros de salida\n",
    "    u_ap        m x 1       double      Vector con la aproximación calculada por el método.\n",
    "    u_ex        m x 1       double      Vector con la solución exacta del problema."
   ]
  },
  {
   "cell_type": "code",
   "execution_count": 112,
   "metadata": {
    "id": "sHw__NUtVB9M"
   },
   "outputs": [],
   "source": [
    "# Se elige la nube en la que se va a trabajar\n",
    "malla = 'CAB21'\n",
    "\n",
    "# Se elige el tamaño de la discretización temporal\n",
    "t   = 1000\n",
    "\n",
    "# Se elige el coeficiente de difusion\n",
    "nu = 0.4"
   ]
  },
  {
   "cell_type": "markdown",
   "metadata": {
    "id": "H9d0P18_-mC-"
   },
   "source": [
    "## Inicialización del Problema\n",
    "Se inicializa lo necesario para el problema:\n",
    "\n",
    "\n",
    "1.   Se importan las librerías necesarias.\n",
    "2.   Se cargan los datos de la región.\n",
    "3.   Se definen las condiciones iniciales y de frontera."
   ]
  },
  {
   "cell_type": "code",
   "execution_count": 92,
   "metadata": {
    "id": "OPdQLbQ0Vmwi"
   },
   "outputs": [],
   "source": [
    "import numpy as np\n",
    "import math\n",
    "import matplotlib.pyplot as plt\n",
    "from sys import path\n",
    "path.insert(0, '../Generales/')\n",
    "from Errores import Mesh_Transient as ECM\n",
    "#from Graficar import Mesh_Transient as Graph\n",
    "from Graficar import Error as GraphEr\n",
    "from scipy.io import loadmat\n",
    "import scipy.sparse"
   ]
  },
  {
   "cell_type": "markdown",
   "metadata": {},
   "source": [
    "### Se cargan los datos de la region\n",
    "\n",
    "En esta parte se cargan los datos de la region desde un archivo .mat y se guardan en sus respectivas variables $x$ y $y$."
   ]
  },
  {
   "cell_type": "code",
   "execution_count": 7,
   "metadata": {},
   "outputs": [
    {
     "data": {
      "image/png": "[encoded data removed]",
      "text/plain": [
       "<Figure size 640x480 with 1 Axes>"
      ]
     },
     "metadata": {},
     "output_type": "display_data"
    }
   ],
   "source": [
    "# Se cargan todos los datos desde el archivo\n",
    "mat = loadmat('../Regiones/Mallas/' + malla + '.mat')\n",
    "\n",
    "# Se guardan los datos de los nodos\n",
    "x = mat['x']\n",
    "y = mat['y']\n",
    "\n",
    "# Se imprimen los nodos para asegurarnos de que se cargan correctamente.\n",
    "plt.scatter(x,  y,  s = 1)\n",
    "plt.title('Malla de la región')\n",
    "plt.show()"
   ]
  },
  {
   "cell_type": "markdown",
   "metadata": {},
   "source": [
    "### Se definen las condiciones iniciales y de frontera\n",
    "\n",
    "Las condiciones iniciales y de frontera serán definidas como:\n",
    "\\begin{align}\n",
    "  f = e^{-2*\\pi^2vt}\\cos(\\pi x)cos(\\pi y)\n",
    "\\end{align}"
   ]
  },
  {
   "cell_type": "code",
   "execution_count": 8,
   "metadata": {},
   "outputs": [],
   "source": [
    "def fDIF(x, y, t, v):\n",
    "    fun = math.exp(-2*math.pi**2*v*t)*math.cos(math.pi*x)*math.cos(math.pi*y)\n",
    "    return fun"
   ]
  },
  {
   "cell_type": "markdown",
   "metadata": {},
   "source": [
    "## Diferencias Finitas Generalizadas\n",
    "Se resuelve el problema de Diferencias Finitas Generalizadas."
   ]
  },
  {
   "cell_type": "code",
   "execution_count": 188,
   "metadata": {},
   "outputs": [],
   "source": [
    "def KDiff(x, y, L):\n",
    "    me = x.shape                                                                    # Se encuentra el tamaño de la malla.\n",
    "    m  = me[0]                                                                      # Se encuentra el número de nodos en x.\n",
    "    n  = me[1]                                                                      # Se encuentra el número de nodos en y.\n",
    "    K  = np.zeros([m*n, m*n])                                                       # Se define la matríz K que guardará la estructura de las Diferencias Finitas Generalizadas.\n",
    "\n",
    "    for i in np.arange(1,m-1):\n",
    "        for j in np.arange(1,n-1):\n",
    "            u = np.array(x[i-1:i+2, j-1:j+2])\n",
    "            v = np.array(y[i-1:i+2, j-1:j+2])\n",
    "            dx = np.hstack([u[0,0] - u[1,1], u[1,0] - u[1,1], \\\n",
    "                            u[2,0] - u[1,1], u[0,1] - u[1,1], \\\n",
    "                            u[2,1] - u[1,1], u[0,2] - u[1,1], \\\n",
    "                            u[1,2] - u[1,1], u[2,2] - u[1,1]])\n",
    "            dy = np.hstack([v[0,0] - v[1,1], v[1,0] - v[1,1], \\\n",
    "                            v[2,0] - v[1,1], v[0,1] - v[1,1], \\\n",
    "                            v[2,1] - v[1,1], v[0,2] - v[1,1], \\\n",
    "                            v[1,2] - v[1,1], v[2,2] - v[1,1]])\n",
    "            M = np.vstack([[dx], [dy], [dx**2], [dx*dy], [dy**2]])                  # Se hace la matriz M.\n",
    "            M = np.linalg.pinv(M)                                                   # Se calcula la pseudoinversa.\n",
    "            YY = M@L                                                                # Se calcula M*L.\n",
    "            Gamma = np.vstack([-sum(YY), YY])                                         # Se encuentran los balores Gamma.\n",
    "            p = (m-1)*(j-1) + i\n",
    "            K[p, p-1]   = Gamma[4]\n",
    "            K[p, p]     = Gamma[0]\n",
    "            K[p, p+1]   = Gamma[5]\n",
    "            K[p, p-1-m-1] = Gamma[1]\n",
    "            K[p, p-m-1]   = Gamma[2]\n",
    "            K[p, p+1-m-1] = Gamma[3]\n",
    "            K[p, p-1+m-1] = Gamma[6]\n",
    "            K[p, p+m-1]   = Gamma[7]\n",
    "            K[p, p+1+m-1] = Gamma[8]\n",
    "    \n",
    "    for j in np.arange(n):\n",
    "        p           = i + (j-1)*m\n",
    "        K[p, p]     = 0\n",
    "        K[(m-1)*j, (m-1)*j] = 0\n",
    "    \n",
    "    for i in np.arange(1,m-1):\n",
    "        K[i, i]                 = 0\n",
    "        K[i+(n-2)*(m-1), i+(n-2)*(m-1)] = 0\n",
    "    \n",
    "    return K\n",
    "\n",
    "def rDiff(u, m , n, k):\n",
    "    R = np.zeros([m*n, 1])\n",
    "\n",
    "    for j in np.arange(n):\n",
    "        R[(j-1)*(m-1), 0] = u[0,   j, k] - u[0, j, k-1]\n",
    "        R[(m-1)*j, 0]     = u[m-1, j, k] - u[m-1, j, k-1]\n",
    "    \n",
    "    for i in np.arange(1,m-1):\n",
    "        R[i, 0]           = u[i, 0, k]   - u[i, 0, k-1]\n",
    "        R[i + (n-2)*(m-1), 0] = u[i, n-1, k] - u[i, n-1, k-1]\n",
    "    \n",
    "    return R"
   ]
  },
  {
   "cell_type": "code",
   "execution_count": 191,
   "metadata": {},
   "outputs": [],
   "source": [
    "#def Diffusion_Mesh_Implicit(x, y, f, nu, t):\n",
    "me   = x.shape                                                                  # Se encuentra el tamaño de la malla.\n",
    "m    = me[0]                                                                    # Se encuentra el número de nodos en x.\n",
    "n    = me[1]                                                                    # Se encuentra el número de nodos en y.\n",
    "T    = np.linspace(0,1,t)                                                       # Se hace la malla en el tiempo.\n",
    "dt   = T[1] - T[0]                                                              # Se calcula dt.\n",
    "u_ap = np.zeros([m, n, t])                                                      # Se inicializa u_ap con ceros.\n",
    "u_ex = np.zeros([m, n, t])                                                      # Se inicializa u_ex con ceros.\n",
    "urr  = np.zeros([m*n,1])\n",
    "lam  = 0.5                                                                      # Se elige el valor de la lambda.\n",
    "\n",
    "\n",
    "## Condiciones de Frontera\n",
    "for k in np.arange(t):\n",
    "    for i in np.arange(m):                                                      # Para cada uno de los nodos en las fronteras en x.\n",
    "        u_ap[i, 0,   k] = fDIF(x[i, 0], y[i, 0], T[k], nu)                         # Se agrega la condición de frontera.\n",
    "        u_ap[i, n-1, k] = fDIF(x[i, n-1], y[i, n-1], T[k], nu)                     # Se agrega la condición de frontera.\n",
    "    for j in np.arange(n):                                                      # Para cada uno de los nodos en las fronteras en y.\n",
    "        u_ap[0,   j, k] = fDIF(x[0, j], y[0, j], T[k], nu)                         # Se agrega la condición de frontera.\n",
    "        u_ap[m-1, j, k] = fDIF(x[m-1, j], y[m-1, j], T[k], nu)                     # Se agrega la condición de frontera.\n",
    "\n",
    "## Condición Inicial\n",
    "for i in np.arange(m):\n",
    "    for j in np.arange(n):\n",
    "        u_ap[i, j, 0] = fDIF(x[i, j], y[i, j], T[0], nu)                           # Se agrega la condición inicial\n",
    "\n",
    "## Se hace el cálculo de K y matrices relacionadas\n",
    "L  = np.vstack([[0], [0], [2*nu*dt], [0], [2*nu*dt]])                           # Se asignan los valores para el operador diferencial.\n",
    "K  = KDiff(x, y, L)\n",
    "Kp = np.identity(m*n) + K\n",
    "\n",
    "\n",
    "for k in np.arange(1,t):\n",
    "    R = rDiff(u_ap, m, n, k)\n",
    "    for i in np.arange(m):\n",
    "        for j in np.arange(n):\n",
    "            urr[i + (j-1)*(m-1), 0] = u_ap[i, j, k-1]\n",
    "    \n",
    "    un = (Kp@urr) + R\n",
    "\n",
    "    for i in np.arange(1,m-1):\n",
    "        for j in np.arange(1,n-1):\n",
    "            u_ap[i, j, k] = un[i + (j-1)*(m-1)]\n",
    "\n",
    "for k in np.arange(t):\n",
    "    for i in np.arange(m):\n",
    "        for j in np.arange(n):\n",
    "            u_ex[i, j, k] = fDIF(x[i, j], y[i, j], T[k], nu)                                    # Se coloca la solución exacta.\n",
    "\n",
    "#    return u_ap, u_ex"
   ]
  },
  {
   "cell_type": "code",
   "execution_count": 192,
   "metadata": {},
   "outputs": [
    {
     "name": "stdout",
     "output_type": "stream",
     "text": [
      "El error máximo cometido para el método es de:  33.51858171186241\n"
     ]
    },
    {
     "data": {
      "image/png": "[encoded data removed]",
      "text/plain": [
       "<Figure size 640x480 with 1 Axes>"
      ]
     },
     "metadata": {},
     "output_type": "display_data"
    }
   ],
   "source": [
    "er = ECM(x, y, u_ap, u_ex)\n",
    "print('El error máximo cometido para el método es de: ', er.max())\n",
    "GraphEr(er)"
   ]
  },
  {
   "cell_type": "code",
   "execution_count": 178,
   "metadata": {},
   "outputs": [
    {
     "name": "stdout",
     "output_type": "stream",
     "text": [
      "[0 1 2 3]\n"
     ]
    }
   ],
   "source": [
    "i = 2\n",
    "j = 2\n",
    "a = np.array([[1, 2, 3, 4], [5, 6, 7, 8], [9, 10, 11, 12], [13, 14, 15, 16]])\n",
    "to = a[i-1:i+2, j-1:j+2]\n",
    "to = np.arange(5-1)\n",
    "print(to)"
   ]
  }
 ],
 "metadata": {
  "kernelspec": {
   "display_name": "Python 3.9.13 ('base')",
   "language": "python",
   "name": "python3"
  },
  "language_info": {
   "codemirror_mode": {
    "name": "ipython",
    "version": 3
   },
   "file_extension": ".py",
   "mimetype": "text/x-python",
   "name": "python",
   "nbconvert_exporter": "python",
   "pygments_lexer": "ipython3",
   "version": "3.9.13"
  },
  "orig_nbformat": 4,
  "vscode": {
   "interpreter": {
    "hash": "a7d64a4e4f670a629493dff827ebdb1a19152bc22216d783a7d6b28a1df13024"
   }
  }
 },
 "nbformat": 4,
 "nbformat_minor": 2
}
