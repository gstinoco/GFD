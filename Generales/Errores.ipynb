{
 "cells": [
  {
   "cell_type": "markdown",
   "metadata": {},
   "source": [
    "# Cálculo del Error\n",
    "En este archivo se definen diferentes funciones para calcular el error cometido con los métodos de Diferencias Finitas Generalizadas. Se agregan 3 formas para calcular:\n",
    "\n",
    "\\begin{align}\n",
    "    \\| e \\|^2 = \\left(\\sqrt{\\sum_{i} (u_{i}^{k} - U_{i}^{k})}\\right) A_{i}\n",
    "\\end{align}\n",
    "\n",
    "    1.   El problema se resolvió en mallas lógicamente rectangulares.\n",
    "    2.   El problema se resolvió en una triangulación o en una nube de puntos.\n",
    "\n",
    "En todos los casos, es necesario introducir la solución exacta $U_{i}^{k}$ y la solución aproximada $u_{i}^{k}$."
   ]
  },
  {
   "cell_type": "markdown",
   "metadata": {},
   "source": [
    "## Importación de Módulos\n",
    "En esta sección se importan todos los módulos necesarios para que se ejecuten correctamente los códigos."
   ]
  },
  {
   "cell_type": "code",
   "execution_count": 1,
   "metadata": {},
   "outputs": [],
   "source": [
    "import numpy as np\n",
    "import math"
   ]
  },
  {
   "cell_type": "markdown",
   "metadata": {},
   "source": [
    "## Cálculo del error\n",
    "En esta sección se implementan los códigos para calcular el Error Cuadrático Medio (ECM) sobre mallas lógicamentes rectangulares y sobre nubes de puntos. Se implementan las siguientes funciones:\n",
    "\n",
    "    1.  PolyArea(x, y): Se calcula el área del polígono formado por el nodo central y sus vecinos.\n",
    "    2.  Mesh_Transient(x, y, u_ap, u_ex): Se calcula el ECM en mallas lógicamente rectangulares para problemas que involucran el tiempo.\n",
    "    3.  Mesh_Static(x, y, u_ap, u_ex): Se calcula el ECM en mallas lógicamente rectangulares para problemas que no involucran el tiempo.\n",
    "    4.  Cloud_Transient(x, y, u_ap, u_ex): Se calcula el ECM en nubes de puntos para problemas que involucran el tiempo.\n",
    "    5.  Cloud_Static(x, y, u_ap, u_ex): Se calcula el ECM en nubes de puntos para problemas que no involucran el tiempo."
   ]
  },
  {
   "cell_type": "markdown",
   "metadata": {},
   "source": [
    "## PolyArea\n",
    "Se define la función para calcular el área de un polígono definido por los vertices cuyas coordenadas se guardan en $x$ y $y$."
   ]
  },
  {
   "cell_type": "code",
   "execution_count": 2,
   "metadata": {},
   "outputs": [],
   "source": [
    "def PolyArea(x,y):\n",
    "    return 0.5*np.abs(np.dot(x, np.roll(y, 1)) - np.dot(y, np.roll(x, 1)))"
   ]
  },
  {
   "cell_type": "markdown",
   "metadata": {},
   "source": [
    "## Mesh Transient\n",
    "En este caso se utiliza una malla lógicamente rectangular para un problema transiente. El polígono que se utiliza para calcular el área es el definido por todos los vecinos inmediatos del nodo interior."
   ]
  },
  {
   "cell_type": "code",
   "execution_count": 3,
   "metadata": {},
   "outputs": [],
   "source": [
    "def Mesh_Transient(x, y, u_ap, u_ex):\n",
    "    me   = x.shape                                                                  # Se calcula el tamaño de la malla.\n",
    "    m    = me[0]                                                                    # Se calcula el número de nodos en x.\n",
    "    n    = me[1]                                                                    # Se calcula el número de nodos en y.\n",
    "    t    = len(u_ap[1,:])                                                           # Se encuentra la cantidad de pasos en el tiempo.\n",
    "    er   = np.zeros(t)                                                              # Se inicializa la variable para guardar el error.\n",
    "    area = np.zeros([m,n])                                                          # Se inicializa la variable para guardar el área.\n",
    "\n",
    "    for i in np.arange(1,m-1):                                                      # Para cada uno de los nodos en x.\n",
    "        for j in np.arange(1,n-1):                                                  # Para cada uno de los nodos en y.\n",
    "            px = np.array([x[i+1, j], x[i+1, j+1], x[i, j+1], x[i-1, j+1], \\\n",
    "                          x[i-1, j], x[i-1, j-1], x[i, j-1], x[i+1, j-1], \\\n",
    "                          x[i, j]])                                                 # Se guardan los valores x del polígono.\n",
    "            py = np.array([y[i+1, j], y[i+1, j+1], y[i, j+1], y[i-1, j+1], \\\n",
    "                          y[i-1, j], y[i-1, j-1], y[i, j-1], y[i+1, j-1], \\\n",
    "                          y[i, j]])                                                 # Se guardan los valores y del polígono.\n",
    "            area[i,j] = PolyArea(px,py)                                             # Se calcula el área.\n",
    "\n",
    "    for k in np.arange(t):                                                          # Para cada uno de los pasos de tiempo.\n",
    "        for i in np.arange(1,m-1):                                                  # Para cada uno de los nodos en x.\n",
    "            for j in np.arange(1,n-1):                                              # Para cada uno de los nodos en y.\n",
    "                er[k] = er[k] + area[i,j]*(u_ap[i,j,k] - u_ex[i,j,k])**2            # Se calcula el error en el nodo.\n",
    "        er[k] = math.sqrt(er[k])                                                    # Se calcula la raiz cuadrada.\n",
    "    \n",
    "    return er"
   ]
  },
  {
   "cell_type": "markdown",
   "metadata": {},
   "source": [
    "## Mesh Static\n",
    "En este caso se utiliza una malla lógicamente rectangular para un problema que no depende del tiempo. El polígono que se utiliza para calcular el área es el definido por todos los vecinos inmediatos del nodo interior."
   ]
  },
  {
   "cell_type": "code",
   "execution_count": null,
   "metadata": {},
   "outputs": [],
   "source": [
    "def Mesh_Static(x, y, u_ap, u_ex):\n",
    "    me   = x.shape                                                                  # Se calcula el tamaño de la malla.\n",
    "    m    = me[0]                                                                    # Se calcula el número de nodos en x.\n",
    "    n    = me[1]                                                                    # Se calcula el número de nodos en y.\n",
    "    er   = 0                                                                        # Se inicializa la variable para guardar el error.\n",
    "    area = np.zeros([m,n])                                                          # Se inicializa la variable para guardar el área.\n",
    "\n",
    "    for i in np.arange(1,m-1):                                                      # Para cada uno de los nodos en x.\n",
    "        for j in np.arange(1,n-1):                                                  # Para cada uno de los nodos en y.\n",
    "            px = np.array([x[i+1, j], x[i+1, j+1], x[i, j+1], x[i-1, j+1], \\\n",
    "                          x[i-1, j], x[i-1, j-1], x[i, j-1], x[i+1, j-1], \\\n",
    "                          x[i, j]])                                                 # Se guardan los valores x del polígono.\n",
    "            py = np.array([y[i+1, j], y[i+1, j+1], y[i, j+1], y[i-1, j+1], \\\n",
    "                          y[i-1, j], y[i-1, j-1], y[i, j-1], y[i+1, j-1], \\\n",
    "                          y[i, j]])                                                 # Se guardan los valores y del polígono.\n",
    "            area[i,j] = PolyArea(px,py)                                             # Se calcula el área.\n",
    "\n",
    "    for i in np.arange(1,m-1):                                                      # Para cada uno de los nodos en x.\n",
    "        for j in np.arange(1,n-1):                                                  # Para cada uno de los nodos en y.\n",
    "            er = er + area[i,j]*(u_ap[i,j] - u_ex[i,j])**2                          # Se calcula el error en el nodo.\n",
    "        er = math.sqrt(er)                                                          # Se calcula la raiz cuadrada.\n",
    "    \n",
    "    return er"
   ]
  },
  {
   "cell_type": "markdown",
   "metadata": {},
   "source": [
    "## Cloud Transient\n",
    "En este caso se utiliza una nube de puntos o una triangulación para un problema transiente. El polígono que se utiliza para calcular el área es el definido por todos los vecinos seleccionados del nodo interior."
   ]
  },
  {
   "cell_type": "code",
   "execution_count": 4,
   "metadata": {},
   "outputs": [],
   "source": [
    "def Cloud_Transient(p, vec, u_ap, u_ex):\n",
    "    m    = len(p[:,0])                                                              # Se encuentra el tamaño de la triangulación.\n",
    "    t    = len(u_ap[1,:])                                                           # Se encuentra la cantidad de pasos en el tiempo.\n",
    "    er   = np.zeros(t)                                                              # Se inicializa la variable para guardar el error.\n",
    "    area = np.zeros(m)                                                              # Se inicializa la variable para guardar el área.\n",
    "\n",
    "    for i in np.arange(m):\n",
    "        nvec = sum(vec[i,:] != 0)                                                   # Se calcula el número de vecinos que tiene el nodo.\n",
    "        polix = np.zeros([nvec])                                                    # Se hace un arreglo para las coordenadas x del polígono.\n",
    "        poliy = np.zeros([nvec])                                                    # Se hace un arreglo para las coordenadas y del polígono.\n",
    "        for j in np.arange(nvec):                                                   # Para cada uno de los nodos vecinos.\n",
    "            vec1 = int(vec[i,j])-1                                                  # Se encuentra el índice del nodo.\n",
    "            polix[j] = p[vec1,0]                                                    # Se guarda la coordenada x del nodo.\n",
    "            poliy[j] = p[vec1,1]                                                    # Se guarda la coordenada y del nodo.\n",
    "        area[i] = PolyArea(polix, poliy)                                            # Se calcula el área.\n",
    "\n",
    "    for k in np.arange(t):                                                          # Para cada uno de los pasos de tiempo.\n",
    "        for i in np.arange(m):                                                      # Para cada uno de los nodos de la malla.\n",
    "            er[k] = er[k] + area[i]*(u_ap[i,k] - u_ex[i,k])**2                      # Se calcula el error en el nodo.\n",
    "        er[k] = math.sqrt(er[k])                                                    # Se calcula la raiz cuadrada.\n",
    "    \n",
    "    return er"
   ]
  },
  {
   "cell_type": "markdown",
   "metadata": {},
   "source": [
    "## Cloud Static\n",
    "En este caso se utiliza una nube de puntos o una triangulación para un problema que no depende del tiempo. El polígono que se utiliza para calcular el área es el definido por todos los vecinos seleccionados del nodo interior."
   ]
  },
  {
   "cell_type": "code",
   "execution_count": null,
   "metadata": {},
   "outputs": [],
   "source": [
    "def Cloud_Static(p, vec, u_ap, u_ex):\n",
    "    m    = len(p[:,0])                                                              # Se encuentra el tamaño de la triangulación.\n",
    "    er   = 0                                                                        # Se inicializa la variable para guardar el error.\n",
    "    area = np.zeros(m)                                                              # Se inicializa la variable para guardar el área.\n",
    "\n",
    "    for i in np.arange(m):\n",
    "        nvec = sum(vec[i,:] != 0)                                                   # Se calcula el número de vecinos que tiene el nodo.\n",
    "        polix = np.zeros([nvec])                                                    # Se hace un arreglo para las coordenadas x del polígono.\n",
    "        poliy = np.zeros([nvec])                                                    # Se hace un arreglo para las coordenadas y del polígono.\n",
    "        for j in np.arange(nvec):                                                   # Para cada uno de los nodos vecinos.\n",
    "            vec1 = int(vec[i,j])-1                                                  # Se encuentra el índice del nodo.\n",
    "            polix[j] = p[vec1,0]                                                    # Se guarda la coordenada x del nodo.\n",
    "            poliy[j] = p[vec1,1]                                                    # Se guarda la coordenada y del nodo.\n",
    "        area[i] = PolyArea(polix, poliy)                                            # Se calcula el área.\n",
    "\n",
    "    for i in np.arange(m):                                                          # Para cada uno de los nodos de la malla.\n",
    "        er = er + area[i]*(u_ap[i] - u_ex[i])**2                                    # Se calcula el error en el nodo.\n",
    "    er = math.sqrt(er)                                                              # Se calcula la raiz cuadrada.\n",
    "    \n",
    "    return er"
   ]
  }
 ],
 "metadata": {
  "kernelspec": {
   "display_name": "Python 3.9.12 ('base')",
   "language": "python",
   "name": "python3"
  },
  "language_info": {
   "codemirror_mode": {
    "name": "ipython",
    "version": 3
   },
   "file_extension": ".py",
   "mimetype": "text/x-python",
   "name": "python",
   "nbconvert_exporter": "python",
   "pygments_lexer": "ipython3",
   "version": "3.9.13"
  },
  "orig_nbformat": 4,
  "vscode": {
   "interpreter": {
    "hash": "a7d64a4e4f670a629493dff827ebdb1a19152bc22216d783a7d6b28a1df13024"
   }
  }
 },
 "nbformat": 4,
 "nbformat_minor": 2
}
