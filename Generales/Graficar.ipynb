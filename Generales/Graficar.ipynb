{
 "cells": [
  {
   "cell_type": "markdown",
   "metadata": {},
   "source": [
    "# Graficadores\n",
    "Aquí se definen los diferentes graficadores que se utilizarán en los diferentes códigos de Python con la finalidad de no tener que definirlos en cada código por separado."
   ]
  },
  {
   "cell_type": "code",
   "execution_count": 1,
   "metadata": {},
   "outputs": [],
   "source": [
    "import numpy as np\n",
    "import math\n",
    "import matplotlib.pyplot as plt\n",
    "from matplotlib.ticker import LinearLocator\n",
    "from mpl_toolkits import mplot3d\n",
    "import cv2"
   ]
  },
  {
   "cell_type": "code",
   "execution_count": 2,
   "metadata": {},
   "outputs": [],
   "source": [
    "def Mesh_Static(x, y, u_ap, u_ex):\n",
    "    fig, (ax1, ax2) = plt.subplots(1, 2, subplot_kw={\"projection\": \"3d\"})\n",
    "    plt.rcParams[\"figure.figsize\"] = (10,5)\n",
    "    \n",
    "    ax1.set_title('Aproximación')\n",
    "    ax1.plot_surface(x, y, u_ap)\n",
    "    \n",
    "    ax2.set_title('Solución Exacta')\n",
    "    ax2.plot_surface(x, y, u_ex)\n",
    "    \n",
    "    plt.show()"
   ]
  },
  {
   "cell_type": "code",
   "execution_count": 3,
   "metadata": {},
   "outputs": [],
   "source": [
    "def Mesh_Transient(x, y, u_ap, u_ex):\n",
    "    t = len(u_ex[0,0,:])\n",
    "    step = math.ceil(t/10)\n",
    "    T    = np.linspace(0,1,t)\n",
    "\n",
    "    fig, (ax1, ax2) = plt.subplots(1, 2, subplot_kw = {\"projection\": \"3d\"})\n",
    "    plt.rcParams[\"figure.figsize\"] = (10,5)\n",
    "    \n",
    "    for k in range(0,t,step):\n",
    "        ax1.clear()\n",
    "        ax2.clear()\n",
    "        tin = float(T[k])\n",
    "        plt.suptitle('Solución al tiempo t = %1.3f seg.' %tin)\n",
    "        \n",
    "        ax1.set_title('Aproximación')\n",
    "        ax1.plot_surface(x, y, u_ap[:,:,k])\n",
    "    \n",
    "        ax2.set_title('Solución Exacta')\n",
    "        ax2.plot_surface(x, y, u_ex[:,:,k])"
   ]
  },
  {
   "cell_type": "code",
   "execution_count": null,
   "metadata": {},
   "outputs": [],
   "source": [
    "def Cloud_Static(p, u_ap, u_ex):\n",
    "    min  = u_ex.min()\n",
    "    max  = u_ex.max()\n",
    "\n",
    "    fig, (ax1, ax2) = plt.subplots(1, 2, subplot_kw = {\"projection\": \"3d\"})\n",
    "    plt.rcParams[\"figure.figsize\"] = (10,5)\n",
    "    \n",
    "    plt.suptitle('Ecuación de Poisson')\n",
    "    \n",
    "    tri1 = ax1.scatter(p[:,0], p[:,1], u_ap[:])\n",
    "    tri2 = ax2.scatter(p[:,0], p[:,1], u_ex[:])\n",
    "    \n",
    "    ax1.set_zlim([min, max])\n",
    "    ax1.set_title('Solución Aproximada')\n",
    "    \n",
    "    ax2.set_zlim([min, max])\n",
    "    ax2.set_title('Solución Exacta')\n",
    "    \n",
    "    fig.canvas.draw()"
   ]
  },
  {
   "cell_type": "code",
   "execution_count": null,
   "metadata": {},
   "outputs": [],
   "source": [
    "def Cloud_Transient(p, u_ap, u_ex):\n",
    "    t = len(u_ex[0,:])\n",
    "    step = math.ceil(t/1000)\n",
    "    min  = u_ex.min()\n",
    "    max  = u_ex.max()\n",
    "    T    = np.linspace(0,1,t)\n",
    "    fig, (ax1, ax2) = plt.subplots(1, 2, subplot_kw = {\"projection\": \"3d\"})\n",
    "    plt.rcParams[\"figure.figsize\"] = (10,5)\n",
    "\n",
    "    for k in range(0,t,step):\n",
    "        ax1.clear()\n",
    "        ax2.clear()\n",
    "        tin = float(T[k])\n",
    "        plt.suptitle('Solución al tiempo t = %1.3f seg.' %tin)\n",
    "        tri1 = ax1.scatter(p[:,0], p[:,1], u_ap[:, k])\n",
    "        tri2 = ax2.scatter(p[:,0], p[:,1], u_ex[:, k])\n",
    "        ax1.set_zlim([min, max])\n",
    "        ax1.set_title('Solución Aproximada')\n",
    "        ax2.set_zlim([min, max])\n",
    "        ax2.set_title('Solución Exacta')\n",
    "        fig.canvas.draw()\n",
    "        plt.pause(0.1)\n"
   ]
  },
  {
   "cell_type": "code",
   "execution_count": null,
   "metadata": {},
   "outputs": [],
   "source": [
    "def Cloud_Transient_Vid(p, u_ap, u_ex, nube):\n",
    "    t = len(u_ex[0,:])\n",
    "    step = math.ceil(t/1000)\n",
    "    min  = u_ex.min()\n",
    "    max  = u_ex.max()\n",
    "    T    = np.linspace(0,1,t)\n",
    "    fig, (ax1, ax2) = plt.subplots(1, 2, subplot_kw = {\"projection\": \"3d\"})\n",
    "    plt.rcParams[\"figure.figsize\"] = (10,5)\n",
    "    nom  = nube + '.avi'\n",
    "\n",
    "    for k in range(0,t,step):\n",
    "        ax1.clear()\n",
    "        ax2.clear()\n",
    "        tin = float(T[k])\n",
    "        plt.suptitle('Solución al tiempo t = %1.3f seg.' %tin)\n",
    "        tri1 = ax1.scatter(p[:,0], p[:,1], u_ap[:, k])\n",
    "        tri2 = ax2.scatter(p[:,0], p[:,1], u_ex[:, k])\n",
    "        ax1.set_zlim([min, max])\n",
    "        ax1.set_title('Solución Aproximada')\n",
    "        ax2.set_zlim([min, max])\n",
    "        ax2.set_title('Solución Exacta')\n",
    "        fig.canvas.draw()\n",
    "        plt.pause(0.1)\n",
    "  \n",
    "        data = np.frombuffer(fig.canvas.tostring_rgb(), dtype=np.uint8)\n",
    "        ima = data.reshape(fig.canvas.get_width_height()[::-1] + (3,))\n",
    "  \n",
    "        if k == 0:\n",
    "            height, width, layers = ima.shape\n",
    "            size = (width,height)\n",
    "            out = cv2.VideoWriter(nom,cv2.VideoWriter_fourcc(*'DIVX'), 25, size)\n",
    "  \n",
    "        out.write(ima)\n",
    "    \n",
    "    out.release()"
   ]
  },
  {
   "cell_type": "code",
   "execution_count": null,
   "metadata": {},
   "outputs": [],
   "source": [
    "def Error(er):\n",
    "    t = t = len(er)\n",
    "    T = np.linspace(0,1,t);\n",
    "    plt.plot(T,er)\n",
    "    plt.ylabel('Error')\n",
    "    plt.xlabel('Tiempo en segundos')\n",
    "    plt.title('Error cometido en el método')"
   ]
  }
 ],
 "metadata": {
  "kernelspec": {
   "display_name": "Python 3.9.13 ('base')",
   "language": "python",
   "name": "python3"
  },
  "language_info": {
   "codemirror_mode": {
    "name": "ipython",
    "version": 3
   },
   "file_extension": ".py",
   "mimetype": "text/x-python",
   "name": "python",
   "nbconvert_exporter": "python",
   "pygments_lexer": "ipython3",
   "version": "3.9.13"
  },
  "orig_nbformat": 4,
  "vscode": {
   "interpreter": {
    "hash": "a7d64a4e4f670a629493dff827ebdb1a19152bc22216d783a7d6b28a1df13024"
   }
  }
 },
 "nbformat": 4,
 "nbformat_minor": 2
}
