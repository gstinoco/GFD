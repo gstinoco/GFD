{
 "cells": [
  {
   "cell_type": "markdown",
   "metadata": {},
   "source": [
    "# Cálculo de Gammas para diferentes códigos\n",
    "En este archivo se definen diferentes funciones para el cálculo de Gammas, el cálculo de Gammas se define para los siguientes casos:\n",
    "\n",
    "    1.   El problema se resuelve en una malla lógicamente rectangular.\n",
    "    2.   El problema se resuelve en una triangulación o en una nube de puntos.\n",
    "\n",
    "En todos los casos, es necesario introducir la región en $x$ y $y$."
   ]
  },
  {
   "cell_type": "code",
   "execution_count": 4,
   "metadata": {},
   "outputs": [],
   "source": [
    "import numpy as np\n",
    "import math"
   ]
  },
  {
   "cell_type": "code",
   "execution_count": 5,
   "metadata": {},
   "outputs": [],
   "source": [
    "def Gammas_Mesh(x, y, L):\n",
    "  me       = x.shape                                                             # Se encuentra el tamaño de la malla.\n",
    "  m        = me[0]                                                               # Se encuentra el tamaño en x.\n",
    "  n        = me[1]                                                               # Se encuentra el tamaño en y.\n",
    "  Gamma    = np.zeros([m,n,9])                                                   # Se inicializa Gamma en cero.\n",
    "\n",
    "  for i in range(1,m-1):                                                         # Para cada uno de los nodos en x.\n",
    "    for j in range(1,n-1):                                                       # Para cada uno de los nodos en y.\n",
    "      dx = np.array([x[i + 1, j]   - x[i, j], x[i + 1, j + 1] - x[i, j], \\\n",
    "                     x[i, j + 1]   - x[i, j], x[i - 1, j + 1] - x[i, j], \\\n",
    "                     x[i - 1, j]   - x[i, j], x[i - 1, j - 1] - x[i, j], \\\n",
    "                     x[i, j - 1]   - x[i, j], x[i + 1, j - 1] - x[i, j]])        # Se calcula dx.\n",
    "      \n",
    "      dy = np.array([y[i + 1, j]   - y[i, j], y[i + 1, j + 1] - y[i, j], \\\n",
    "                     y[i, j + 1]   - y[i, j], y[i - 1, j + 1] - y[i, j], \\\n",
    "                     y[i - 1, j]   - y[i, j], y[i - 1, j - 1] - y[i, j], \\\n",
    "                     y[i, j - 1]   - y[i, j], y[i + 1, j - 1] - y[i, j]])        # Se calcula dy\n",
    "      \n",
    "      M = np.vstack([[dx], [dy], [dx**2], [dx*dy], [dy**2]])                     # Se hace la matriz M.\n",
    "      M = np.linalg.pinv(M)                                                      # Se calcula la pseudoinversa.\n",
    "      YY = M@L                                                                   # Se calcula M*L.\n",
    "      Gem = np.vstack([-sum(YY), YY])                                            # Se encuentran los balores Gamma.\n",
    "      Gamma[i,j,:] = Gem.transpose()                                             # Se guardan los valores Gamma correspondientes.\n",
    "\n",
    "  return Gamma"
   ]
  },
  {
   "cell_type": "code",
   "execution_count": 6,
   "metadata": {},
   "outputs": [],
   "source": [
    "def Gammas_Cloud(p, pb, vec, L):\n",
    "  nvec  = len(vec[:,1])                                                          # Se encuentra el número máximo de vecinos.\n",
    "  m     = len(p[:,0])                                                            # Se encuentra el número de nodos.\n",
    "  mf    = len(pb[:,0])                                                           # Se encuentra el número de nodos frontera.\n",
    "  Gamma = np.zeros([m, nvec])                                                    # Se inicializa el arreglo para guardar las Gammas.\n",
    "\n",
    "  for i in np.arange(mf, m):                                                     # Para cada uno de los nodos internos.\n",
    "    nvec = sum(vec[i,:] != 0)                                                    # Se calcula el número de vecinos que tiene el nodo.\n",
    "    dx = np.zeros([nvec])                                                        # Se inicializa dx en 0.\n",
    "    dy = np.zeros([nvec])                                                        # Se inicializa dy en 0.\n",
    "\n",
    "    for j in np.arange(nvec):                                                    # Para cada uno de los nodos vecinos.\n",
    "      vec1 = int(vec[i, j])-1                                                    # Se obtiene el índice del vecino.\n",
    "      dx[j] = p[vec1, 0] - p[i,0]                                                # Se calcula dx.\n",
    "      dy[j] = p[vec1, 1] - p[i,1]                                                # Se calcula dy.\n",
    "\n",
    "    M = np.vstack([[dx], [dy], [dx**2], [dx*dy], [dy**2]])                       # Se hace la matriz M.\n",
    "    M = np.linalg.pinv(M)                                                        # Se calcula la pseudoinversa.\n",
    "    YY = M@L                                                                     # Se calcula M*L.\n",
    "    Gem = np.vstack([-sum(YY), YY]).transpose()                                  # Se encuentran los valores Gamma.\n",
    "    for j in np.arange(nvec+1):                                                  # Para cada uno de los vecinos.\n",
    "      Gamma[i,j] = Gem[0,j]                                                      # Se guarda el Gamma correspondiente.\n",
    "  \n",
    "  return Gamma"
   ]
  }
 ],
 "metadata": {
  "kernelspec": {
   "display_name": "Python 3.9.13 ('base')",
   "language": "python",
   "name": "python3"
  },
  "language_info": {
   "codemirror_mode": {
    "name": "ipython",
    "version": 3
   },
   "file_extension": ".py",
   "mimetype": "text/x-python",
   "name": "python",
   "nbconvert_exporter": "python",
   "pygments_lexer": "ipython3",
   "version": "3.9.12"
  },
  "orig_nbformat": 4,
  "vscode": {
   "interpreter": {
    "hash": "a7d64a4e4f670a629493dff827ebdb1a19152bc22216d783a7d6b28a1df13024"
   }
  }
 },
 "nbformat": 4,
 "nbformat_minor": 2
}
